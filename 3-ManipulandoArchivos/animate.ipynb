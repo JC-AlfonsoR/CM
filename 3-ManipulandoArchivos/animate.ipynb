{
 "cells": [
  {
   "cell_type": "code",
   "execution_count": 71,
   "metadata": {
    "collapsed": false
   },
   "outputs": [
    {
     "name": "stdout",
     "output_type": "stream",
     "text": [
      "Using matplotlib backend: TkAgg\n",
      "Populating the interactive namespace from numpy and matplotlib\n"
     ]
    }
   ],
   "source": [
    "%pylab\n",
    "from subprocess import call\n",
    "import time\n",
    "#from matplotlib import animation"
   ]
  },
  {
   "cell_type": "code",
   "execution_count": 72,
   "metadata": {
    "collapsed": false
   },
   "outputs": [],
   "source": [
    "!ls ./test100 > nombres.txt #Guardo los nombres de los archivos"
   ]
  },
  {
   "cell_type": "code",
   "execution_count": 73,
   "metadata": {
    "collapsed": false,
    "scrolled": false
   },
   "outputs": [],
   "source": [
    "nouns = open(\"nombres.txt\")\n",
    "i = 1\n",
    "for line in nouns:\n",
    "    file_name = str(line)[0:-1] #Nombre del archivo, le quito el caracter \\n al final de cada linea\n",
    "    file_route = \"./test100/\" + file_name #Ruta del archivo a leer\n",
    "    \"\"\"\n",
    "    data = loadtxt(file_route) #Cargar datos en array 'data'\n",
    "    #figure(figsize(7,5))\n",
    "    scatter(data[:,0],data[:,1])\n",
    "    xlabel(\"Columna 1\")\n",
    "    ylabel(\"Columna 2\")\n",
    "    title(\"Archivo: \"+file_name,size=15)\n",
    "    grid()\n",
    "    i = i +1\n",
    "    \"\"\""
   ]
  },
  {
   "cell_type": "code",
   "execution_count": 74,
   "metadata": {
    "collapsed": false
   },
   "outputs": [
    {
     "name": "stdout",
     "output_type": "stream",
     "text": [
      "(<type 'list'>, <type 'list'>)\n",
      "(117, 117)\n",
      "(<type 'numpy.ndarray'>, <type 'numpy.ndarray'>)\n",
      "(5, 5)\n"
     ]
    }
   ],
   "source": [
    "nouns = open(\"nombres.txt\")\n",
    "C1 = []\n",
    "C2 = []\n",
    "for line in nouns:\n",
    "    file_name = str(line)[0:-1] #Nombre del archivo, le quito el caracter \\n al final de cada linea\n",
    "    file_route = \"./test100/\" + file_name #Ruta del archivo a leer\n",
    "    \n",
    "    data = loadtxt(file_route) #Cargar datos en array 'data'\n",
    "    C1.append(data[:,0]) #Guardar datos en listas\n",
    "    C2.append(data[:,1]) #Guardar datos en listas\n",
    "    \n",
    "print(type(C1),type(C2))\n",
    "print(len(C1),len(C2))\n",
    "print(type(C1[0]),type(C2[0]))\n",
    "print(len(C1[0]),len(C2[0]))"
   ]
  },
  {
   "cell_type": "code",
   "execution_count": 75,
   "metadata": {
    "collapsed": false
   },
   "outputs": [
    {
     "data": {
      "text/plain": [
       "'\\nCorregir:\\n'"
      ]
     },
     "execution_count": 75,
     "metadata": {},
     "output_type": "execute_result"
    }
   ],
   "source": [
    "fig, ax = plt.subplots()\n",
    "xlabel(\"Column 1\")\n",
    "ylabel(\"Column 2\")\n",
    "title(\"test100 Data Animation\",size=20)\n",
    "grid()\n",
    "ax.scatter(C1[0],C2[0], lw=2)\n",
    "xlim([14,30])\n",
    "ylim([20,50])\n",
    "for i in range(20):\n",
    "    ax.scatter(C1[i],C2[i])\n",
    "    fig.canvas.draw()\n",
    "\"\"\"\n",
    "Corregir:\n",
    "\"\"\""
   ]
  },
  {
   "cell_type": "code",
   "execution_count": 26,
   "metadata": {
    "collapsed": false
   },
   "outputs": [
    {
     "ename": "AttributeError",
     "evalue": "'str' object has no attribute 'saving'",
     "output_type": "error",
     "traceback": [
      "\u001b[1;31m---------------------------------------------------------------------------\u001b[0m",
      "\u001b[1;31mAttributeError\u001b[0m                            Traceback (most recent call last)",
      "\u001b[1;32m<ipython-input-26-a1bcd77beba8>\u001b[0m in \u001b[0;36m<module>\u001b[1;34m()\u001b[0m\n\u001b[0;32m      8\u001b[0m \u001b[0mfig\u001b[0m \u001b[1;33m=\u001b[0m \u001b[0mfigure\u001b[0m\u001b[1;33m(\u001b[0m\u001b[0mfigsize\u001b[0m\u001b[1;33m=\u001b[0m\u001b[1;33m(\u001b[0m\u001b[1;36m5\u001b[0m\u001b[1;33m,\u001b[0m\u001b[1;36m4\u001b[0m\u001b[1;33m)\u001b[0m\u001b[1;33m)\u001b[0m\u001b[1;33m\u001b[0m\u001b[0m\n\u001b[0;32m      9\u001b[0m \u001b[0manim\u001b[0m \u001b[1;33m=\u001b[0m \u001b[0manimation\u001b[0m\u001b[1;33m.\u001b[0m\u001b[0mFuncAnimation\u001b[0m\u001b[1;33m(\u001b[0m\u001b[0mfig\u001b[0m\u001b[1;33m,\u001b[0m \u001b[0manimate\u001b[0m\u001b[1;33m,\u001b[0m \u001b[0mframes\u001b[0m\u001b[1;33m=\u001b[0m\u001b[1;36m30\u001b[0m\u001b[1;33m)\u001b[0m\u001b[1;33m\u001b[0m\u001b[0m\n\u001b[1;32m---> 10\u001b[1;33m \u001b[0manim\u001b[0m\u001b[1;33m.\u001b[0m\u001b[0msave\u001b[0m\u001b[1;33m(\u001b[0m\u001b[1;34m'/tmp/animation.gif'\u001b[0m\u001b[1;33m,\u001b[0m \u001b[0mwriter\u001b[0m\u001b[1;33m=\u001b[0m\u001b[1;34m'imagemagick'\u001b[0m\u001b[1;33m,\u001b[0m \u001b[0mfps\u001b[0m\u001b[1;33m=\u001b[0m\u001b[1;36m30\u001b[0m\u001b[1;33m)\u001b[0m\u001b[1;33m\u001b[0m\u001b[0m\n\u001b[0m",
      "\u001b[1;32m/usr/lib/pymodules/python2.7/matplotlib/animation.pyc\u001b[0m in \u001b[0;36msave\u001b[1;34m(self, filename, writer, fps, dpi, codec, bitrate, extra_args, metadata, extra_anim, savefig_kwargs)\u001b[0m\n\u001b[0;32m    710\u001b[0m         \u001b[1;31m# since GUI widgets are gone. Either need to remove extra code to\u001b[0m\u001b[1;33m\u001b[0m\u001b[1;33m\u001b[0m\u001b[0m\n\u001b[0;32m    711\u001b[0m         \u001b[1;31m# allow for this non-existant use case or find a way to make it work.\u001b[0m\u001b[1;33m\u001b[0m\u001b[1;33m\u001b[0m\u001b[0m\n\u001b[1;32m--> 712\u001b[1;33m         \u001b[1;32mwith\u001b[0m \u001b[0mwriter\u001b[0m\u001b[1;33m.\u001b[0m\u001b[0msaving\u001b[0m\u001b[1;33m(\u001b[0m\u001b[0mself\u001b[0m\u001b[1;33m.\u001b[0m\u001b[0m_fig\u001b[0m\u001b[1;33m,\u001b[0m \u001b[0mfilename\u001b[0m\u001b[1;33m,\u001b[0m \u001b[0mdpi\u001b[0m\u001b[1;33m)\u001b[0m\u001b[1;33m:\u001b[0m\u001b[1;33m\u001b[0m\u001b[0m\n\u001b[0m\u001b[0;32m    713\u001b[0m             for data in itertools.izip(*[a.new_saved_frame_seq()\n\u001b[0;32m    714\u001b[0m                                          for a in all_anim]):\n",
      "\u001b[1;31mAttributeError\u001b[0m: 'str' object has no attribute 'saving'"
     ]
    },
    {
     "data": {
      "image/png": "[encoded data removed]",
      "text/plain": [
       "<matplotlib.figure.Figure at 0x7fe333774f90>"
      ]
     },
     "metadata": {},
     "output_type": "display_data"
    }
   ],
   "source": [
    "from matplotlib import animation\n",
    "def animate(nframe):\n",
    "    #cla()\n",
    "    scatter(C1[nframe],C2[nframe])\n",
    "    ylim(20,50)\n",
    "    title('Exp: %.2f'%(1.*nframe/10.))\n",
    "\n",
    "fig = figure(figsize=(5,4)) \n",
    "anim = animation.FuncAnimation(fig, animate, frames=30)\n",
    "anim.save('/tmp/animation.gif', writer='imagemagick', fps=30)"
   ]
  },
  {
   "cell_type": "code",
   "execution_count": 9,
   "metadata": {
    "collapsed": false
   },
   "outputs": [
    {
     "ename": "AttributeError",
     "evalue": "'str' object has no attribute 'saving'",
     "output_type": "error",
     "traceback": [
      "\u001b[1;31m---------------------------------------------------------------------------\u001b[0m",
      "\u001b[1;31mAttributeError\u001b[0m                            Traceback (most recent call last)",
      "\u001b[1;32m<ipython-input-9-118ae1df9ebf>\u001b[0m in \u001b[0;36m<module>\u001b[1;34m()\u001b[0m\n\u001b[0;32m     25\u001b[0m                                frames=100, interval=20, blit=True)\n\u001b[0;32m     26\u001b[0m \u001b[1;33m\u001b[0m\u001b[0m\n\u001b[1;32m---> 27\u001b[1;33m \u001b[0manim\u001b[0m\u001b[1;33m.\u001b[0m\u001b[0msave\u001b[0m\u001b[1;33m(\u001b[0m\u001b[1;34m'lorenz_attractor.mp4'\u001b[0m\u001b[1;33m,\u001b[0m \u001b[0mfps\u001b[0m\u001b[1;33m=\u001b[0m\u001b[1;36m15\u001b[0m\u001b[1;33m,\u001b[0m \u001b[0mextra_args\u001b[0m\u001b[1;33m=\u001b[0m\u001b[1;33m[\u001b[0m\u001b[1;34m'-vcodec'\u001b[0m\u001b[1;33m,\u001b[0m \u001b[1;34m'libx264'\u001b[0m\u001b[1;33m]\u001b[0m\u001b[1;33m)\u001b[0m\u001b[1;33m\u001b[0m\u001b[0m\n\u001b[0m\u001b[0;32m     28\u001b[0m \u001b[1;31m#anim.save('basic_animation.gif', fps=30)\u001b[0m\u001b[1;33m\u001b[0m\u001b[1;33m\u001b[0m\u001b[0m\n\u001b[0;32m     29\u001b[0m \"\"\"\n",
      "\u001b[1;32m/usr/lib/pymodules/python2.7/matplotlib/animation.pyc\u001b[0m in \u001b[0;36msave\u001b[1;34m(self, filename, writer, fps, dpi, codec, bitrate, extra_args, metadata, extra_anim, savefig_kwargs)\u001b[0m\n\u001b[0;32m    710\u001b[0m         \u001b[1;31m# since GUI widgets are gone. Either need to remove extra code to\u001b[0m\u001b[1;33m\u001b[0m\u001b[1;33m\u001b[0m\u001b[0m\n\u001b[0;32m    711\u001b[0m         \u001b[1;31m# allow for this non-existant use case or find a way to make it work.\u001b[0m\u001b[1;33m\u001b[0m\u001b[1;33m\u001b[0m\u001b[0m\n\u001b[1;32m--> 712\u001b[1;33m         \u001b[1;32mwith\u001b[0m \u001b[0mwriter\u001b[0m\u001b[1;33m.\u001b[0m\u001b[0msaving\u001b[0m\u001b[1;33m(\u001b[0m\u001b[0mself\u001b[0m\u001b[1;33m.\u001b[0m\u001b[0m_fig\u001b[0m\u001b[1;33m,\u001b[0m \u001b[0mfilename\u001b[0m\u001b[1;33m,\u001b[0m \u001b[0mdpi\u001b[0m\u001b[1;33m)\u001b[0m\u001b[1;33m:\u001b[0m\u001b[1;33m\u001b[0m\u001b[0m\n\u001b[0m\u001b[0;32m    713\u001b[0m             for data in itertools.izip(*[a.new_saved_frame_seq()\n\u001b[0;32m    714\u001b[0m                                          for a in all_anim]):\n",
      "\u001b[1;31mAttributeError\u001b[0m: 'str' object has no attribute 'saving'"
     ]
    },
    {
     "data": {
      "image/png": "[encoded data removed]",
      "text/plain": [
       "<matplotlib.figure.Figure at 0x7fe3335d51d0>"
      ]
     },
     "metadata": {},
     "output_type": "display_data"
    }
   ],
   "source": [
    "# First set up the figure, the axis, and the plot element we want to animate\n",
    "fig = figure() #Crear figure\n",
    "ax = axes(xlim=(10, 30), ylim=(20, 50)) #Crear objeto axes\n",
    "line, = ax.plot([], [], lw=2)\n",
    "grid()\n",
    "\n",
    "# initialization function: plot the background of each frame\n",
    "def init():\n",
    "    line.set_data([], []) \n",
    "    return line,\n",
    "    #Hace grafica con solo los ejes \n",
    "\n",
    "# animation function.  This is called sequentially\n",
    "x = np.linspace(0, 2, 1000)\n",
    "def animate(i):\n",
    "    x = C1[i]\n",
    "    y = C2[i]\n",
    "    line.set_data(x, y)\n",
    "    return line\n",
    "\n",
    "\n",
    "from matplotlib import animation\n",
    "# call the animator.  blit=True means only re-draw the parts that have changed.\n",
    "anim = animation.FuncAnimation(fig, animate, init_func=init,\n",
    "                               frames=100, interval=20, blit=True)\n",
    "\n",
    "anim.save('lorenz_attractor.mp4', fps=15, extra_args=['-vcodec', 'libx264'])\n",
    "#anim.save('basic_animation.gif', fps=30)\n",
    "\"\"\"\n",
    "figure(figsize(7,5))\n",
    "scatter(data[:,0],data[:,1])\n",
    "xlabel(\"Columna 1\")\n",
    "ylabel(\"Columna 2\")\n",
    "title(\"Archivo: \"+file_name,size=15)\n",
    "grid()\"\"\""
   ]
  }
 ],
 "metadata": {
  "kernelspec": {
   "display_name": "Python 2",
   "language": "python",
   "name": "python2"
  },
  "language_info": {
   "codemirror_mode": {
    "name": "ipython",
    "version": 2
   },
   "file_extension": ".py",
   "mimetype": "text/x-python",
   "name": "python",
   "nbconvert_exporter": "python",
   "pygments_lexer": "ipython2",
   "version": "2.7.6"
  }
 },
 "nbformat": 4,
 "nbformat_minor": 0
}
