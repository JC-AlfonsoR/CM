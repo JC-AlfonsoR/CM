{
 "cells": [
  {
   "cell_type": "code",
   "execution_count": 16,
   "metadata": {
    "collapsed": false
   },
   "outputs": [
    {
     "name": "stdout",
     "output_type": "stream",
     "text": [
      "Using matplotlib backend: TkAgg\n",
      "Populating the interactive namespace from numpy and matplotlib\n"
     ]
    }
   ],
   "source": [
    "%pylab\n",
    "from subprocess import call\n",
    "import time\n",
    "#from matplotlib import animation"
   ]
  },
  {
   "cell_type": "code",
   "execution_count": 17,
   "metadata": {
    "collapsed": false
   },
   "outputs": [],
   "source": [
    "!ls ./test100 > nombres.txt #Guardo los nombres de los archivos"
   ]
  },
  {
   "cell_type": "code",
   "execution_count": 18,
   "metadata": {
    "collapsed": false
   },
   "outputs": [
    {
     "name": "stdout",
     "output_type": "stream",
     "text": [
      "(<type 'list'>, <type 'list'>)\n",
      "(117, 117)\n",
      "(<type 'numpy.ndarray'>, <type 'numpy.ndarray'>)\n",
      "(5, 5)\n"
     ]
    }
   ],
   "source": [
    "nouns = open(\"nombres.txt\")\n",
    "C1 = []\n",
    "C2 = []\n",
    "for line in nouns:\n",
    "    file_name = str(line)[0:-1] #Nombre del archivo, le quito el caracter \\n al final de cada linea\n",
    "    file_route = \"./test100/\" + file_name #Ruta del archivo a leer\n",
    "    \n",
    "    data = loadtxt(file_route) #Cargar datos en array 'data'\n",
    "    C1.append(data[:,0]) #Guardar datos en listas\n",
    "    C2.append(data[:,1]) #Guardar datos en listas\n",
    "    \n",
    "print(type(C1),type(C2))\n",
    "print(len(C1),len(C2))\n",
    "print(type(C1[0]),type(C2[0]))\n",
    "print(len(C1[0]),len(C2[0]))"
   ]
  },
  {
   "cell_type": "code",
   "execution_count": 19,
   "metadata": {
    "collapsed": false
   },
   "outputs": [],
   "source": [
    "fig, ax = plt.subplots()\n",
    "xlabel(\"Column 1\")\n",
    "ylabel(\"Column 2\")\n",
    "title(\"test100 Data Animation\",size=20)\n",
    "grid()\n",
    "ax.scatter(C1[0],C2[0], lw=2, alpha=0.2)\n",
    "xlim([14,30])\n",
    "ylim([20,50])\n",
    "for i in range(20):\n",
    "    ax.scatter(C1[i],C2[i])\n",
    "    fig.canvas.draw()"
   ]
  }
 ],
 "metadata": {
  "kernelspec": {
   "display_name": "Python 2",
   "language": "python",
   "name": "python2"
  },
  "language_info": {
   "codemirror_mode": {
    "name": "ipython",
    "version": 2
   },
   "file_extension": ".py",
   "mimetype": "text/x-python",
   "name": "python",
   "nbconvert_exporter": "python",
   "pygments_lexer": "ipython2",
   "version": "2.7.6"
  }
 },
 "nbformat": 4,
 "nbformat_minor": 0
}
