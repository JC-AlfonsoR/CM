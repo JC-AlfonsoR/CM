{
 "metadata": {
  "name": "",
  "signature": "sha256:f6ecc9e5b5018c904d4ff08a19f51beef702127cdc451d46147db672a656edbe"
 },
 "nbformat": 3,
 "nbformat_minor": 0,
 "worksheets": [
  {
   "cells": [
    {
     "cell_type": "code",
     "collapsed": false,
     "input": [
      "from subprocess import call"
     ],
     "language": "python",
     "metadata": {},
     "outputs": [],
     "prompt_number": 6
    },
    {
     "cell_type": "code",
     "collapsed": false,
     "input": [
      "!ls\n",
      "!sed 's/,/+/g' Notas.csv > Notas.dat\n",
      "#hacer el cambio de comandos usando los comandos de Bash \n",
      "!ls"
     ],
     "language": "python",
     "metadata": {},
     "outputs": [
      {
       "output_type": "stream",
       "stream": "stdout",
       "text": [
        "animate.ipynb  Notas.csv  Notas.dat  Untitled0.ipynb\r\n"
       ]
      },
      {
       "output_type": "stream",
       "stream": "stdout",
       "text": [
        "animate.ipynb  Notas.csv  Notas.dat  Untitled0.ipynb\r\n"
       ]
      }
     ],
     "prompt_number": 56
    },
    {
     "cell_type": "code",
     "collapsed": false,
     "input": [
      "def change_comma(s):\n",
      "    #Cambia las comas en string 's' por '+'\n",
      "    l = len(s)\n",
      "    for i in range(l):\n",
      "        if(s[i]==\",\"):\n",
      "            s[i] = \"A\"\n",
      "    return s"
     ],
     "language": "python",
     "metadata": {},
     "outputs": [],
     "prompt_number": 87
    },
    {
     "cell_type": "code",
     "collapsed": false,
     "input": [
      "s = \"a,b,c\"\n",
      "print(s)\n",
      "ss = change_comma(s)\n",
      "print ss"
     ],
     "language": "python",
     "metadata": {},
     "outputs": [
      {
       "output_type": "stream",
       "stream": "stdout",
       "text": [
        "a,b,c\n"
       ]
      }
     ],
     "prompt_number": 90
    },
    {
     "cell_type": "code",
     "collapsed": false,
     "input": [
      "F = open(\"Notas.csv\")\n",
      "for i in range(33):\n",
      "    l = F.readline()\n",
      "    print(l)   \n",
      "F.close()"
     ],
     "language": "python",
     "metadata": {},
     "outputs": [
      {
       "output_type": "stream",
       "stream": "stdout",
       "text": [
        "Taller,1,Taller,2,Taller,3,Taller,4,Taller,5,Taller,6,Taller,7,Taller,8\n",
        "\n",
        "100,40,30,0,20,29,50,32\n",
        "\n",
        "100,90,100,100,85,96,80,85\n",
        "\n",
        "83,75,25,28,45,58,75,55\n",
        "\n",
        "94,90,100,100,75,113,80,100\n",
        "\n",
        "90,75,55,20,52,34,55,50\n",
        "\n",
        "93,55,90,20,70,68,50,105\n",
        "\n",
        "100,85,50,20,42,81,80,70\n",
        "\n",
        "36,75,30,80,42,32,25,0\n",
        "\n",
        "85,80,90,5,52,88,50,0\n",
        "\n",
        "102,110,90,0,80,68,80,88\n",
        "\n",
        "100,67,75,60,60,96,50,55\n",
        "\n",
        "89,70,85,100,75,88,80,70\n",
        "\n",
        "97,105,105,120,110,98,100,100\n",
        "\n",
        "93,85,55,80,80,98,50,55\n",
        "\n",
        "100,70,60,0,75,66,70,105\n",
        "\n",
        "76,75,65,80,85,95,80,100\n",
        "\n",
        "59,60,65,100,35,29,60,55\n",
        "\n",
        "80,85,85,10,60,68,50,88\n",
        "\n",
        "90,90,40,67,80,66,70,65\n",
        "\n",
        "93,75,85,10,70,34,60,55\n",
        "\n",
        "92,85,70,20,70,58,55,70\n",
        "\n",
        "91,80,65,24,75,81,80,70\n",
        "\n",
        "85,62,85,38,70,96,50,65\n",
        "\n",
        "80,80,95,28,110,95,50,50\n",
        "\n",
        "71,58,55,100,35,32,70,100\n",
        "\n",
        "100,80,30,80,80,68,60,32\n",
        "\n",
        "100,60,100,95,110,113,80,85\n",
        "\n",
        "94,73,45,0,35,0,0,0\n",
        "\n",
        "84,90,95,100,110,96,100,55\n",
        "\n",
        "92,75,70,38,70,68,60,65\n",
        "\n",
        "\n",
        "\n"
       ]
      }
     ],
     "prompt_number": 85
    },
    {
     "cell_type": "code",
     "collapsed": false,
     "input": [
      "!wc Notas.csv"
     ],
     "language": "python",
     "metadata": {},
     "outputs": [
      {
       "output_type": "stream",
       "stream": "stdout",
       "text": [
        " 31  31 817 Notas.csv\r\n"
       ]
      }
     ],
     "prompt_number": 86
    },
    {
     "cell_type": "code",
     "collapsed": false,
     "input": [],
     "language": "python",
     "metadata": {},
     "outputs": [],
     "prompt_number": 86
    },
    {
     "cell_type": "code",
     "collapsed": false,
     "input": [],
     "language": "python",
     "metadata": {},
     "outputs": []
    }
   ],
   "metadata": {}
  }
 ]
}