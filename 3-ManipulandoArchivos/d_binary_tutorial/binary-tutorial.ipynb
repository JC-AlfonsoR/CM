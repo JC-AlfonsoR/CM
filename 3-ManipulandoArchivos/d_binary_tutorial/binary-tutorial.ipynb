{
 "metadata": {
  "name": "",
  "signature": "sha256:2504d48fe30e4c975422cb226f69d2c32321ac0398cc09fc24475db887b0ad6f"
 },
 "nbformat": 3,
 "nbformat_minor": 0,
 "worksheets": [
  {
   "cells": [
    {
     "cell_type": "markdown",
     "metadata": {},
     "source": [
      "#Archivos Binarios"
     ]
    },
    {
     "cell_type": "markdown",
     "metadata": {},
     "source": [
      "##Baractocat"
     ]
    },
    {
     "cell_type": "markdown",
     "metadata": {},
     "source": [
      "Vamos a leer una imagen como un archivo binario\n",
      "\n",
      "En este caso, trabajamos con imagenes tomadas de:\n",
      "\n",
      "[baracktocat](https://octodex.github.com/baracktocat/)\n",
      "[secretcat](https://octodex.github.com/privateinvestocat/)"
     ]
    },
    {
     "cell_type": "code",
     "collapsed": false,
     "input": [
      "import struct\n",
      "#En este ejemplo vamos a leer el ancho y largo de una imagen 'bmp' a traves de su representacion binaria\n",
      "f = open('baracktocat.bmp','rb')\n",
      "\n",
      "f.seek(18) # Avanzamos a la posicion 18 porque los bmp guardan guardan la infromacion de alto y ancho en esta posicion\n",
      "bytes = f.read(8) #Se leen 8 bytes porque el largo y el ancho tienen cada uno 4 bytes\n",
      "\n",
      "size = struct.unpack('<II',bytes)\n",
      "#El largo y el ancho estan codificados en la forma '<II'\n",
      "\n",
      "#Imprimir los datos\n",
      "print('Image width: ' + str(size[0]))\n",
      "print('Image height: ' + str(size[1]))"
     ],
     "language": "python",
     "metadata": {},
     "outputs": [
      {
       "output_type": "stream",
       "stream": "stdout",
       "text": [
        "Image width: 896\n",
        "Image height: 896\n"
       ]
      }
     ],
     "prompt_number": 87
    },
    {
     "cell_type": "markdown",
     "metadata": {},
     "source": [
      "En este ejemplo se ve que la representacion binaria de una imagen contiene informacion organizada sobre las propiedades del archivo. En este caso accedimos a los bytes especificos que contienen la informacion del largo y el ancho. De esta forma se puede interpretar que la representacion binaria de un archivo funciona de la misma forma que el ADN en los seres vivos: La informacion se guarda de forma ordenada en posiciones prdefinidas"
     ]
    },
    {
     "cell_type": "markdown",
     "metadata": {},
     "source": [
      "##Leyendo Archivos\n",
      "\n",
      "Ahora veamos como se ve una archivo de texto en representacion binaria. \n",
      "\n",
      "El archivo que vamos a abrir se llama 'NedStark_Quotes.txt' y contiene 2 frases celebres de este personaje de ficcion.\n"
     ]
    },
    {
     "cell_type": "code",
     "collapsed": false,
     "input": [
      "#Para leer el archivo en representacion binaria se necesita incluir el argumento \"rb\"\n",
      "Ned_q = open(\"NedStark_Quotes.txt\",\"rb\")\n",
      "for line in Ned_q: #Leer cada linea del archivo\n",
      "    print(line, type(line)) #imprimir cada linea y de que tipo es\n",
      "    for character in line:\n",
      "        print(character,type(character),end=\"\\t\") #Imprimir cada caracter en la linea y de que tipo es\n",
      "    print(\"\\n\\n\")"
     ],
     "language": "python",
     "metadata": {},
     "outputs": [
      {
       "output_type": "stream",
       "stream": "stdout",
       "text": [
        "b'Ned Stark Quotes\\r\\n' <class 'bytes'>\n",
        "78 <class 'int'>\t101 <class 'int'>\t100 <class 'int'>\t32 <class 'int'>\t83 <class 'int'>\t116 <class 'int'>\t97 <class 'int'>\t114 <class 'int'>\t107 <class 'int'>\t32 <class 'int'>\t81 <class 'int'>\t117 <class 'int'>\t111 <class 'int'>\t116 <class 'int'>\t101 <class 'int'>\t115 <class 'int'>\t13 <class 'int'>\t10 <class 'int'>\t\n",
        "\n",
        "\n",
        "b'Winter is comming\\r\\n' <class 'bytes'>\n",
        "87 <class 'int'>\t105 <class 'int'>\t110 <class 'int'>\t116 <class 'int'>\t101 <class 'int'>\t114 <class 'int'>\t32 <class 'int'>\t105 <class 'int'>\t115 <class 'int'>\t32 <class 'int'>\t99 <class 'int'>\t111 <class 'int'>\t109 <class 'int'>\t109 <class 'int'>\t105 <class 'int'>\t110 <class 'int'>\t103 <class 'int'>\t13 <class 'int'>\t10 <class 'int'>\t\n",
        "\n",
        "\n",
        "b\"The man who passes the sentence should swing the sword. If you would take a man's life, you owe it to him to look into his eyes and hear his final words\\r\\n\" <class 'bytes'>\n",
        "84 <class 'int'>\t104 <class 'int'>\t101 <class 'int'>\t32 <class 'int'>\t109 <class 'int'>\t97 <class 'int'>\t110 <class 'int'>\t32 <class 'int'>\t119 <class 'int'>\t104 <class 'int'>\t111 <class 'int'>\t32 <class 'int'>\t112 <class 'int'>\t97 <class 'int'>\t115 <class 'int'>\t115 <class 'int'>\t101 <class 'int'>\t115 <class 'int'>\t32 <class 'int'>\t116 <class 'int'>\t104 <class 'int'>\t101 <class 'int'>\t32 <class 'int'>\t115 <class 'int'>\t101 <class 'int'>\t110 <class 'int'>\t116 <class 'int'>\t101 <class 'int'>\t110 <class 'int'>\t99 <class 'int'>\t101 <class 'int'>\t32 <class 'int'>\t115 <class 'int'>\t104 <class 'int'>\t111 <class 'int'>\t117 <class 'int'>\t108 <class 'int'>\t100 <class 'int'>\t32 <class 'int'>\t115 <class 'int'>\t119 <class 'int'>\t105 <class 'int'>\t110 <class 'int'>\t103 <class 'int'>\t32 <class 'int'>\t116 <class 'int'>\t104 <class 'int'>\t101 <class 'int'>\t32 <class 'int'>\t115 <class 'int'>\t119 <class 'int'>\t111 <class 'int'>\t114 <class 'int'>\t100 <class 'int'>\t46 <class 'int'>\t32 <class 'int'>\t73 <class 'int'>\t102 <class 'int'>\t32 <class 'int'>\t121 <class 'int'>\t111 <class 'int'>\t117 <class 'int'>\t32 <class 'int'>\t119 <class 'int'>\t111 <class 'int'>\t117 <class 'int'>\t108 <class 'int'>\t100 <class 'int'>\t32 <class 'int'>\t116 <class 'int'>\t97 <class 'int'>\t107 <class 'int'>\t101 <class 'int'>\t32 <class 'int'>\t97 <class 'int'>\t32 <class 'int'>\t109 <class 'int'>\t97 <class 'int'>\t110 <class 'int'>\t39 <class 'int'>\t115 <class 'int'>\t32 <class 'int'>\t108 <class 'int'>\t105 <class 'int'>\t102 <class 'int'>\t101 <class 'int'>\t44 <class 'int'>\t32 <class 'int'>\t121 <class 'int'>\t111 <class 'int'>\t117 <class 'int'>\t32 <class 'int'>\t111 <class 'int'>\t119 <class 'int'>\t101 <class 'int'>\t32 <class 'int'>\t105 <class 'int'>\t116 <class 'int'>\t32 <class 'int'>\t116 <class 'int'>\t111 <class 'int'>\t32 <class 'int'>\t104 <class 'int'>\t105 <class 'int'>\t109 <class 'int'>\t32 <class 'int'>\t116 <class 'int'>\t111 <class 'int'>\t32 <class 'int'>\t108 <class 'int'>\t111 <class 'int'>\t111 <class 'int'>\t107 <class 'int'>\t32 <class 'int'>\t105 <class 'int'>\t110 <class 'int'>\t116 <class 'int'>\t111 <class 'int'>\t32 <class 'int'>\t104 <class 'int'>\t105 <class 'int'>\t115 <class 'int'>\t32 <class 'int'>\t101 <class 'int'>\t121 <class 'int'>\t101 <class 'int'>\t115 <class 'int'>\t32 <class 'int'>\t97 <class 'int'>\t110 <class 'int'>\t100 <class 'int'>\t32 <class 'int'>\t104 <class 'int'>\t101 <class 'int'>\t97 <class 'int'>\t114 <class 'int'>\t32 <class 'int'>\t104 <class 'int'>\t105 <class 'int'>\t115 <class 'int'>\t32 <class 'int'>\t102 <class 'int'>\t105 <class 'int'>\t110 <class 'int'>\t97 <class 'int'>\t108 <class 'int'>\t32 <class 'int'>\t119 <class 'int'>\t111 <class 'int'>\t114 <class 'int'>\t100 <class 'int'>\t115 <class 'int'>\t13 <class 'int'>\t10 <class 'int'>\t\n",
        "\n",
        "\n",
        "b\"-Can a man be brave if he's afraid? - That is the only time a man can be brave\\r\\n\" <class 'bytes'>\n",
        "45 <class 'int'>\t67 <class 'int'>\t97 <class 'int'>\t110 <class 'int'>\t32 <class 'int'>\t97 <class 'int'>\t32 <class 'int'>\t109 <class 'int'>\t97 <class 'int'>\t110 <class 'int'>\t32 <class 'int'>\t98 <class 'int'>\t101 <class 'int'>\t32 <class 'int'>\t98 <class 'int'>\t114 <class 'int'>\t97 <class 'int'>\t118 <class 'int'>\t101 <class 'int'>\t32 <class 'int'>\t105 <class 'int'>\t102 <class 'int'>\t32 <class 'int'>\t104 <class 'int'>\t101 <class 'int'>\t39 <class 'int'>\t115 <class 'int'>\t32 <class 'int'>\t97 <class 'int'>\t102 <class 'int'>\t114 <class 'int'>\t97 <class 'int'>\t105 <class 'int'>\t100 <class 'int'>\t63 <class 'int'>\t32 <class 'int'>\t45 <class 'int'>\t32 <class 'int'>\t84 <class 'int'>\t104 <class 'int'>\t97 <class 'int'>\t116 <class 'int'>\t32 <class 'int'>\t105 <class 'int'>\t115 <class 'int'>\t32 <class 'int'>\t116 <class 'int'>\t104 <class 'int'>\t101 <class 'int'>\t32 <class 'int'>\t111 <class 'int'>\t110 <class 'int'>\t108 <class 'int'>\t121 <class 'int'>\t32 <class 'int'>\t116 <class 'int'>\t105 <class 'int'>\t109 <class 'int'>\t101 <class 'int'>\t32 <class 'int'>\t97 <class 'int'>\t32 <class 'int'>\t109 <class 'int'>\t97 <class 'int'>\t110 <class 'int'>\t32 <class 'int'>\t99 <class 'int'>\t97 <class 'int'>\t110 <class 'int'>\t32 <class 'int'>\t98 <class 'int'>\t101 <class 'int'>\t32 <class 'int'>\t98 <class 'int'>\t114 <class 'int'>\t97 <class 'int'>\t118 <class 'int'>\t101 <class 'int'>\t13 <class 'int'>\t10 <class 'int'>\t\n",
        "\n",
        "\n"
       ]
      }
     ],
     "prompt_number": 77
    },
    {
     "cell_type": "markdown",
     "metadata": {},
     "source": [
      "Este resultado indica que cada linea es del tipo 'bytes', conteniendo la representacion en ASCII de cada uno de los caracteres que integran el texto plano. Asi, existe una representacion para cada caracter alfa-numerico y para cada simbolo. Por ejemplo, notese que todas las lineas terminan con con los int de 13 y 10, que representan los simbolos para crear una nueva linea.\n"
     ]
    },
    {
     "cell_type": "markdown",
     "metadata": {},
     "source": [
      "##Secret Cat\n",
      "\n",
      "Ahora vamos a trabajar con la imagen 'encripted_cat.jpeg'. Esta imagen fue manipulada por el autor, para evitar que cualquiera pueda verla. Cada una de los bites de la imagen original fueron puestos en un orden diferente para evitar que se pueda visualizar normalmente. A continuacion vamos a volver a organizar los bites de la imagen para poder verla."
     ]
    },
    {
     "cell_type": "code",
     "collapsed": false,
     "input": [
      "from subprocess import call\n",
      "!ls\n",
      "!eog encripted_cat.jpeg"
     ],
     "language": "python",
     "metadata": {},
     "outputs": [
      {
       "output_type": "stream",
       "stream": "stderr",
       "text": [
        "\"ls\" no se reconoce como un comando interno o externo,\n",
        "programa o archivo por lotes ejecutable.\n"
       ]
      },
      {
       "output_type": "stream",
       "stream": "stderr",
       "text": [
        "\"eog\" no se reconoce como un comando interno o externo,\n",
        "programa o archivo por lotes ejecutable.\n"
       ]
      }
     ],
     "prompt_number": 91
    },
    {
     "cell_type": "code",
     "collapsed": false,
     "input": [
      "#Primero definimos la funcion que nos permite reorganizar la informacion de la imagen\n",
      "#Lo que se hizo con la informacion fue que se puso completamente al reves, entonces vamos a ponerla al reves otra vez\n",
      "def encript1(s):\n",
      "    return s[::-1]\n",
      "\n",
      "#Abrimos la imagen 'encripted_cat' en modo de lectura binario\n",
      "f = open(\"encripted_cat.jpg\",\"rb\")\n",
      "d = f.read() #Leemos todos los datos en representacion binaria\n",
      "f.close()\n",
      "\n",
      "cat = open(\"my_cat.jpeg\",\"wb\") #Abrimos la imagen 'my_cat' en modo de escritura binario para almacenar los nuevos datos\n",
      "nd = encript1(d) #Para resolver el problema de la imagen encriptada, los nuevos datos 'nd' corresponden a los datos\n",
      "# del 'encripted_cat' luego de pasar por la funcion 'encript1'\n",
      "cat.write(nd) #Guardamos los datos en la nueva imagen y ya esta lista para verse!\n",
      "cat.close()"
     ],
     "language": "python",
     "metadata": {},
     "outputs": [],
     "prompt_number": 84
    },
    {
     "cell_type": "code",
     "collapsed": false,
     "input": [
      "!ls\n",
      "!eog my_cat.jpeg"
     ],
     "language": "python",
     "metadata": {},
     "outputs": [
      {
       "output_type": "stream",
       "stream": "stderr",
       "text": [
        "\"ls\" no se reconoce como un comando interno o externo,\n",
        "programa o archivo por lotes ejecutable.\n"
       ]
      },
      {
       "output_type": "stream",
       "stream": "stderr",
       "text": [
        "\"eog\" no se reconoce como un comando interno o externo,\n",
        "programa o archivo por lotes ejecutable.\n"
       ]
      }
     ],
     "prompt_number": 90
    },
    {
     "cell_type": "markdown",
     "metadata": {},
     "source": [
      "###Referencias\n",
      "\n",
      "[python Cookbok](http://chimera.labs.oreilly.com/books/1230000000393/ch05.html#_discussion_76)\n",
      "\n",
      "[Linux-by-examples](http://runnable.com/UqJdRnCIohYmAAGP/reading-binary-files-in-python-for-io)\n",
      "\n",
      "\n",
      "J. Camilo Alfonso R. (201114819)"
     ]
    }
   ],
   "metadata": {}
  }
 ]
}