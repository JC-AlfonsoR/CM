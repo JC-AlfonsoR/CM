{
 "metadata": {
  "name": "",
  "signature": "sha256:e249b8222e7b2fdeb1b585a278fce2db34df6309ed156cf865e6d22b366a7b11"
 },
 "nbformat": 3,
 "nbformat_minor": 0,
 "worksheets": [
  {
   "cells": [
    {
     "cell_type": "code",
     "collapsed": false,
     "input": [
      "from subprocess import call"
     ],
     "language": "python",
     "metadata": {},
     "outputs": [],
     "prompt_number": 58
    },
    {
     "cell_type": "code",
     "collapsed": false,
     "input": [
      "!ls\n",
      "!sed 's/,/+/g' Notas.csv > Notas.dat\n",
      "#hacer el cambio de comandos usando los comandos de Bash \n",
      "!ls"
     ],
     "language": "python",
     "metadata": {},
     "outputs": [
      {
       "output_type": "stream",
       "stream": "stdout",
       "text": [
        "animate.ipynb  csvtodat.py  csvtodat.py~  Notas.csv  Notas.dat\tUntitled0.ipynb\r\n"
       ]
      },
      {
       "output_type": "stream",
       "stream": "stdout",
       "text": [
        "animate.ipynb  csvtodat.py  csvtodat.py~  Notas.csv  Notas.dat\tUntitled0.ipynb\r\n"
       ]
      }
     ],
     "prompt_number": 59
    },
    {
     "cell_type": "code",
     "collapsed": false,
     "input": [
      "F = open(\"Notas.csv\",\"r\")\n",
      "W = open(\"Notas.dat\",\"w\")\n",
      "for line in F:\n",
      "    l = line.replace(\",\",\"+\")\n",
      "    W.write(line.replace(\",\",\"+\"))\n",
      "F.close()\n",
      "W.close()\n",
      "!ls\n",
      "print(\"\\nThe file 'Notas.dat' has been created in the actual folder\")"
     ],
     "language": "python",
     "metadata": {},
     "outputs": [
      {
       "output_type": "stream",
       "stream": "stdout",
       "text": [
        "animate.ipynb  csvtodat.py  csvtodat.py~  Notas.csv  Notas.dat\tUntitled0.ipynb\r\n"
       ]
      },
      {
       "output_type": "stream",
       "stream": "stdout",
       "text": [
        "\n",
        "The file 'Notas.dat' has been created in the actual folder\n"
       ]
      }
     ],
     "prompt_number": 60
    },
    {
     "cell_type": "code",
     "collapsed": false,
     "input": [
      "\"\"\"\n",
      "Codigo verificado\n",
      "Marzo 4\n",
      "\"\"\""
     ],
     "language": "python",
     "metadata": {},
     "outputs": [],
     "prompt_number": 61
    }
   ],
   "metadata": {}
  }
 ]
}