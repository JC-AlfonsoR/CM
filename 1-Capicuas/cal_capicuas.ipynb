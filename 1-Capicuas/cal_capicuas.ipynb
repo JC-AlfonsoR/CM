{
 "metadata": {
  "name": "",
  "signature": "sha256:2d874c47c3df3149200d954fba0db00a664c30382f6da1dbd7288222b1123317"
 },
 "nbformat": 3,
 "nbformat_minor": 0,
 "worksheets": [
  {
   "cells": [
    {
     "cell_type": "heading",
     "level": 1,
     "metadata": {},
     "source": [
      "Capicuas"
     ]
    },
    {
     "cell_type": "code",
     "collapsed": false,
     "input": [
      "#Python 3.4\n",
      "#Porfavot Ejecute todas las celdas en Orden"
     ],
     "language": "python",
     "metadata": {},
     "outputs": [],
     "prompt_number": 2
    },
    {
     "cell_type": "code",
     "collapsed": false,
     "input": [
      "def rev(s):\n",
      "    return s[::-1]\n",
      "    #Devuelve un string al reves    "
     ],
     "language": "python",
     "metadata": {},
     "outputs": [],
     "prompt_number": 3
    },
    {
     "cell_type": "code",
     "collapsed": false,
     "input": [
      "def paldrom(a):\n",
      "    \"\"\"\n",
      "    kpic valida si el string 'a' es palindromo\n",
      "    Se espera un string 'a' sin espacios, comas o caracteres diferentes de alfanumericos\n",
      "    Devuelve True es Palindromo, False de lo contrario.\n",
      "    Espera todas los caracteres alfabeticos en minusculas\n",
      "    \"\"\"\n",
      "    l = len(a)\n",
      "    \n",
      "    if(l==1): #Si es de un solo caracter en palindromo\n",
      "        return True\n",
      "    elif(l%2==0): #Valida si string es par\n",
      "        lp = int(l/2)\n",
      "        if( a[:lp] == rev(a[lp:]) ):\n",
      "            return True\n",
      "        else:\n",
      "            return False\n",
      "    else: #String es impar\n",
      "        lp = int((l-1)/2)\n",
      "        if( a[:lp] == rev(a[lp+1:]) ):\n",
      "            return True\n",
      "        else:\n",
      "            return False"
     ],
     "language": "python",
     "metadata": {},
     "outputs": [],
     "prompt_number": 4
    },
    {
     "cell_type": "code",
     "collapsed": false,
     "input": [
      "## Punto a\n",
      "#El resultado de n=10**10 puede tomar bastante tiempo en ejecutarse\n",
      "n = 10**4 #Rango a analizar\n",
      "l_n = len(str(n))\n",
      "print(\"Imprimiendo capicuas de\", l_n-1, \"Digitos\")\n",
      "c = 0 #Contador\n",
      "\n",
      "for i in range(n):\n",
      "    s = str(i)\n",
      "    if(paldrom(s)):\n",
      "        print(i, end='\\t'); c+=1\n",
      "    \n",
      "print(\"\\n\\nEl total de capicuas, de 0 hasta\", n, \", es de \", c)"
     ],
     "language": "python",
     "metadata": {},
     "outputs": [
      {
       "output_type": "stream",
       "stream": "stdout",
       "text": [
        "Imprimiendo capicuas de 4 Digitos\n",
        "0\t1\t2\t3\t4\t5\t6\t7\t8\t9\t11\t22\t33\t44\t55\t66\t77\t88\t99\t101\t111\t121\t131\t141\t151\t161\t171\t181\t191\t202\t212\t222\t232\t242\t252\t262\t272\t282\t292\t303\t313\t323\t333\t343\t353\t363\t373\t383\t393\t404\t414\t424\t434\t444\t454\t464\t474\t484\t494\t505\t515\t525\t535\t545\t555\t565\t575\t585\t595\t606\t616\t626\t636\t646\t656\t666\t676\t686\t696\t707\t717\t727\t737\t747\t757\t767\t777\t787\t797\t808\t818\t828\t838\t848\t858\t868\t878\t888\t898\t909\t919\t929\t939\t949\t959\t969\t979\t989\t999\t1001\t1111\t1221\t1331\t1441\t1551\t1661\t1771\t1881\t1991\t2002\t2112\t2222\t2332\t2442\t2552\t2662\t2772\t2882\t2992\t3003\t3113\t3223\t3333\t3443\t3553\t3663\t3773\t3883\t3993\t4004\t4114\t4224\t4334\t4444\t4554\t4664\t4774\t4884\t4994\t5005\t5115\t5225\t5335\t5445\t5555\t5665\t5775\t5885\t5995\t6006\t6116\t6226\t6336\t6446\t6556\t6666\t6776\t6886\t6996\t7007\t7117\t7227\t7337\t7447\t7557\t7667\t7777\t7887\t7997\t8008\t8118\t8228\t8338\t8448\t8558\t8668\t8778\t8888\t8998\t9009\t9119\t9229\t9339\t9449\t9559\t9669\t9779\t9889\t9999\t\n",
        "\n",
        "El total de capicuas, de 0 hasta 10000 , es de  199\n"
       ]
      }
     ],
     "prompt_number": 5
    },
    {
     "cell_type": "code",
     "collapsed": false,
     "input": [
      "## Punto b\n",
      "n = 10**4 #Rango a analizar\n",
      "l_n = len(str(n))\n",
      "print(\"Imprimiendo capicuas de\", l_n-1, \"Digitos que tambien son capicuas en representacion binaria\")\n",
      "c = 0 #Contador\n",
      "\n",
      "for i in range(n):\n",
      "    s = str(i)\n",
      "    if(paldrom(s)):\n",
      "        b = str(bin(i))\n",
      "        s = b[2:] #Quitar los caracteres '0b' al inicio de la representacion binaria\n",
      "        if(paldrom(s)):\n",
      "            print(i, end='\\t'); c+=1\n",
      "\n",
      "print(\"\\n\\nEl total de capicuas, de 0 hasta\", n, \",que tambien son capicuas en representacion binaria, es de \", c)"
     ],
     "language": "python",
     "metadata": {},
     "outputs": [
      {
       "output_type": "stream",
       "stream": "stdout",
       "text": [
        "Imprimiendo capicuas de 4 Digitos que tambien son capicuas en representacion binaria\n",
        "0\t1\t3\t5\t7\t9\t33\t99\t313\t585\t717\t7447\t9009\t\n",
        "\n",
        "El total de capicuas, de 0 hasta 10000 ,que tambien son capicuas en representacion binaria, es de  13\n"
       ]
      }
     ],
     "prompt_number": 6
    },
    {
     "cell_type": "code",
     "collapsed": false,
     "input": [
      "## Punto c\n",
      "sss = input(\"Por favor ingrese la cadena de caracteres: \") #Input del usuario\n",
      "sss = sss.replace(\"\\n\",\"\") #Quitar el caracter de nueva linea\n",
      "ss = ''.join(e for e in sss if e.isalnum()) #Eelgir solo caracteres alfanumericos\n",
      "s = ss.lower() #Cambiar a minusculas\n",
      "\n",
      "if(paldrom(s)):\n",
      "    print(\"\\nLa cadena de caracteres SI es palindroma\\n\\n*Este resultado hace las sigueintes suposiciones:\\\n",
      "          \\n No se tienen en cuenta Mayusculas y minusculas\\\n",
      "          \\n Solo se tienen en cuenta caracteres alfabeticos y numericos\")\n",
      "else:\n",
      "    print(\"\\nLa cadena de caracteres NO es palindorma\\n\\nEste resultado hace las sigueintes suposiciones:\\\n",
      "          \\n No se tienen en cuenta Mayusculas y minusculas\\\n",
      "          \\n Solo se tienen en cuenta caracteres alfabeticos y numericos\")\n",
      "#Ejemplo para probar le codigo:\n",
      "#La &(Ruta --Natural!"
     ],
     "language": "python",
     "metadata": {},
     "outputs": [
      {
       "name": "stdout",
       "output_type": "stream",
       "stream": "stdout",
       "text": [
        "Por favor ingrese la cadena de caracteres: #La &(Ruta --Natural!\n"
       ]
      },
      {
       "output_type": "stream",
       "stream": "stdout",
       "text": [
        "\n",
        "La cadena de caracteres SI es palindroma\n",
        "\n",
        "*Este resultado hace las sigueintes suposiciones:          \n",
        " No se tienen en cuenta Mayusculas y minusculas          \n",
        " Solo se tienen en cuenta caracteres alfabeticos y numericos\n"
       ]
      }
     ],
     "prompt_number": 18
    },
    {
     "cell_type": "markdown",
     "metadata": {},
     "source": [
      " "
     ]
    },
    {
     "cell_type": "markdown",
     "metadata": {},
     "source": [
      "J. Camilo Alfonso R\n",
      "201114819"
     ]
    }
   ],
   "metadata": {}
  }
 ]
}